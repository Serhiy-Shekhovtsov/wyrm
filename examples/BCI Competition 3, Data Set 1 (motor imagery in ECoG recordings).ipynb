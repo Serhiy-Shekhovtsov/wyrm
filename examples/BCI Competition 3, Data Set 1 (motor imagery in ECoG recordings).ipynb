{
 "metadata": {
  "name": "",
  "signature": "sha256:dd891dd08b59aeeaf64b5f5c027469fc4af4ff7c85823f977b1ba327fbb48c31"
 },
 "nbformat": 3,
 "nbformat_minor": 0,
 "worksheets": [
  {
   "cells": [
    {
     "cell_type": "markdown",
     "metadata": {},
     "source": [
      "### Getting the Dataset\n",
      "\n",
      "This example uses the [Data Set 1][bcicomp3ds1] from the BCI Competition 3. Specifically you need training and test data in matlab format and `Competition_train_lab.txt` from train data in ASCII format. Full list of data files looks like this: `Competition_test.mat`, `Competition_train.mat`, `Competition_train_lab.txt`. After copying these files into a directory called `data\\BCI_COMP_III_Tuebingen` next to this script you should be able to follow this example\n",
      "\n",
      "[bcicomp3ds1]: http://www.bbci.de/competition/iii/#data_set_i\n"
     ]
    },
    {
     "cell_type": "code",
     "collapsed": false,
     "input": [
      "from __future__ import division\n",
      "\n",
      "import numpy as np\n",
      "import scipy as sp\n",
      "from scipy.io import loadmat\n",
      "from matplotlib import pyplot as plt\n",
      "import matplotlib as mpl\n",
      "\n",
      "from wyrm import processing as proc\n",
      "from wyrm.types import Data\n",
      "from wyrm import plot\n",
      "from wyrm.io import load_bcicomp3_ds1\n",
      "plot.beautify()"
     ],
     "language": "python",
     "metadata": {},
     "outputs": [],
     "prompt_number": 9
    },
    {
     "cell_type": "code",
     "collapsed": false,
     "input": [
      "DATA_DIR = 'data/BCI_COMP_III_Tuebingen/'\n",
      "TRUE_LABELS = DATA_DIR + 'Competition_train_lab.txt'"
     ],
     "language": "python",
     "metadata": {},
     "outputs": [],
     "prompt_number": 10
    },
    {
     "cell_type": "code",
     "collapsed": false,
     "input": [
      "# load test and training data\n",
      "dat_train, dat_test = load_bcicomp3_ds1(DATA_DIR)\n",
      "\n",
      "# load true labels\n",
      "true_labels = np.loadtxt(TRUE_LABELS).astype('int')\n",
      "# map labels -1 -> 0\n",
      "true_labels[true_labels == -1] = 0"
     ],
     "language": "python",
     "metadata": {},
     "outputs": [],
     "prompt_number": 11
    },
    {
     "cell_type": "code",
     "collapsed": false,
     "input": [
      "def plot_csp_pattern(a):\n",
      "    # get symmetric min/max values for the color bar from first and last column of the pattern\n",
      "    maxv = np.max(np.abs(a[:, [0, -1]]))\n",
      "    minv = -maxv\n",
      "    \n",
      "    im_args = {'interpolation' : 'None', \n",
      "           'vmin' : minv, \n",
      "           'vmax' : maxv\n",
      "           }\n",
      "\n",
      "    # plot\n",
      "    ax1 = plt.subplot2grid((1,11), (0,0), colspan=5)\n",
      "    ax2 = plt.subplot2grid((1,11), (0,5), colspan=5)\n",
      "    ax3 = plt.subplot2grid((1,11), (0,10))\n",
      "\n",
      "    ax1.imshow(a[:, 0].reshape(8, 8), **im_args)\n",
      "    ax1.set_title('Pinky')\n",
      "\n",
      "    ax = ax2.imshow(a[:, -1].reshape(8, 8), **im_args)\n",
      "    ax2.set_title('Tongue')\n",
      "\n",
      "    plt.colorbar(ax, cax=ax3)\n",
      "    plt.tight_layout()"
     ],
     "language": "python",
     "metadata": {},
     "outputs": [],
     "prompt_number": 12
    },
    {
     "cell_type": "code",
     "collapsed": false,
     "input": [
      "def preprocess(data, filt=None):\n",
      "    dat = data.copy()\n",
      "    fs_n = dat.fs / 2\n",
      "    \n",
      "    b, a = proc.signal.butter(5, [13 / fs_n], btype='low')\n",
      "    dat = proc.filtfilt(dat, b, a)\n",
      "    \n",
      "    b, a = proc.signal.butter(5, [9 / fs_n], btype='high')\n",
      "    dat = proc.filtfilt(dat, b, a)\n",
      "    \n",
      "    dat = proc.subsample(dat, 50)\n",
      "\n",
      "    if filt is None:\n",
      "        filt, pattern, _ = proc.calculate_csp(dat)\n",
      "        plot_csp_pattern(pattern)\n",
      "    dat = proc.apply_csp(dat, filt)\n",
      "    \n",
      "    dat = proc.variance(dat)\n",
      "    dat = proc.logarithm(dat)\n",
      "    return dat, filt"
     ],
     "language": "python",
     "metadata": {},
     "outputs": [],
     "prompt_number": 13
    },
    {
     "cell_type": "code",
     "collapsed": false,
     "input": [
      "fv_train, filt = preprocess(dat_train)\n",
      "fv_test, _ = preprocess(dat_test, filt)"
     ],
     "language": "python",
     "metadata": {},
     "outputs": []
    },
    {
     "cell_type": "code",
     "collapsed": false,
     "input": [
      "cfy = proc.lda_train(fv_train)\n",
      "result = proc.lda_apply(fv_test, cfy)\n",
      "result = (np.sign(result) + 1) / 2\n",
      "print 'LDA Accuracy %.2f%%' % (len(set(result).intersection(true_labels)) / len(result))"
     ],
     "language": "python",
     "metadata": {},
     "outputs": [
      {
       "output_type": "stream",
       "stream": "stdout",
       "text": [
        "LDA Accuracy 0.02%\n"
       ]
      }
     ],
     "prompt_number": 8
    },
    {
     "cell_type": "code",
     "collapsed": false,
     "input": [
      "plt.show()"
     ],
     "language": "python",
     "metadata": {},
     "outputs": []
    },
    {
     "cell_type": "code",
     "collapsed": false,
     "input": [],
     "language": "python",
     "metadata": {},
     "outputs": [],
     "prompt_number": 8
    }
   ],
   "metadata": {}
  }
 ]
}